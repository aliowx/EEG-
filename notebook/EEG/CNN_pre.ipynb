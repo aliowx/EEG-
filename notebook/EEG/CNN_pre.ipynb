{
 "cells": [
  {
   "cell_type": "code",
   "execution_count": 4,
   "id": "f2e250fa",
   "metadata": {},
   "outputs": [
    {
     "name": "stdout",
     "output_type": "stream",
     "text": [
      "\n"
     ]
    }
   ],
   "source": [
    "import tensorflow as tf\n",
    "from tensorflow.keras import layers, models, datasets\n",
    "import numpy as np \n",
    "import matplotlib.pyplot as plt \n",
    "from sklearn.preprocessing import StandardScaler, MinMaxScaler\n",
    "import os \n",
    "import pickle\n",
    "from typing import Tuple, Optional\n",
    "from transformers import pipeline \n",
    "import tqdm\n",
    "import torch \n",
    "\n",
    "print()"
   ]
  },
  {
   "cell_type": "code",
   "execution_count": 3,
   "id": "e1271d5a",
   "metadata": {},
   "outputs": [],
   "source": [
    "(x_train, y_train),(x_test, y_test) = datasets.mnist.load_data() "
   ]
  },
  {
   "cell_type": "code",
   "execution_count": 4,
   "id": "f0e5d20a",
   "metadata": {},
   "outputs": [
    {
     "data": {
      "text/plain": [
       "<matplotlib.image.AxesImage at 0x7a0503c68f70>"
      ]
     },
     "execution_count": 4,
     "metadata": {},
     "output_type": "execute_result"
    },
    {
     "data": {
      "image/png": "[encoded data removed]",
      "text/plain": [
       "<Figure size 640x480 with 1 Axes>"
      ]
     },
     "metadata": {},
     "output_type": "display_data"
    }
   ],
   "source": [
    "plt.imshow(x_train[0])"
   ]
  },
  {
   "cell_type": "code",
   "execution_count": 5,
   "id": "b3a0de22",
   "metadata": {},
   "outputs": [],
   "source": [
    "x_train = x_train.astype('float32') / 255.0\n",
    "x_test = x_test.astype('float32') / 255.0"
   ]
  },
  {
   "cell_type": "code",
   "execution_count": 6,
   "id": "80109f07",
   "metadata": {},
   "outputs": [],
   "source": [
    "x_train = x_train.reshape((x_train.shape[0], 28, 28, 1))\n",
    "x_test = x_test.reshape((x_test.shape[0], 28, 28, 1))"
   ]
  },
  {
   "cell_type": "code",
   "execution_count": 7,
   "id": "fe452ba0",
   "metadata": {},
   "outputs": [],
   "source": [
    "y_train = tf.keras.utils.to_categorical(y_train, 10)\n",
    "y_test = tf.keras.utils.to_categorical(y_test, 10)"
   ]
  },
  {
   "cell_type": "code",
   "execution_count": 8,
   "id": "0fb0b60e",
   "metadata": {},
   "outputs": [
    {
     "data": {
      "image/png": "[encoded data removed]",
      "text/plain": [
       "<Figure size 1000x500 with 5 Axes>"
      ]
     },
     "metadata": {},
     "output_type": "display_data"
    }
   ],
   "source": [
    "plt.figure(figsize=(10,5))\n",
    "for i in range(5):\n",
    "    plt.subplot(1, 5 , i+1)\n",
    "    plt.imshow(x_train[i].reshape(28,28), cmap='gray')\n",
    "    plt.title(f'Label: {np.argmax(y_train[i])}')\n",
    "    plt.axis(\"OFF\")\n",
    "    \n",
    "plt.show()"
   ]
  },
  {
   "cell_type": "code",
   "execution_count": 9,
   "id": "f0f472f8",
   "metadata": {},
   "outputs": [
    {
     "name": "stderr",
     "output_type": "stream",
     "text": [
      "2025-07-10 19:25:07.842288: I tensorflow/compiler/xla/stream_executor/cuda/cuda_gpu_executor.cc:996] successful NUMA node read from SysFS had negative value (-1), but there must be at least one NUMA node, so returning NUMA node zero. See more at https://github.com/torvalds/linux/blob/v6.0/Documentation/ABI/testing/sysfs-bus-pci#L344-L355\n",
      "2025-07-10 19:25:08.510868: W tensorflow/core/common_runtime/gpu/gpu_device.cc:1956] Cannot dlopen some GPU libraries. Please make sure the missing libraries mentioned above are installed properly if you would like to use GPU. Follow the guide at https://www.tensorflow.org/install/gpu for how to download and setup the required libraries for your platform.\n",
      "Skipping registering GPU devices...\n"
     ]
    }
   ],
   "source": [
    "model = models.Sequential([\n",
    "    # layer One\n",
    "\tlayers.Conv2D(32, (3, 3), activation='relu', input_shape=(28, 28, 1)),\n",
    "    layers.MaxPooling2D((2, 2)),\n",
    "    \n",
    "    #layer two\n",
    "    layers.Conv2D(62, (3, 3), activation='relu'),\n",
    "    layers.MaxPool2D((2, 2)),\n",
    "    \n",
    "    layers.Flatten(),\n",
    "    \n",
    "    layers.Dense(128, activation='relu'),\n",
    "    layers.Dense(10, activation='softmax')\n",
    "    \n",
    "    \n",
    "    \n",
    "])"
   ]
  },
  {
   "cell_type": "code",
   "execution_count": 10,
   "id": "3c525805",
   "metadata": {},
   "outputs": [
    {
     "name": "stdout",
     "output_type": "stream",
     "text": [
      "Model: \"sequential\"\n",
      "_________________________________________________________________\n",
      " Layer (type)                Output Shape              Param #   \n",
      "=================================================================\n",
      " conv2d (Conv2D)             (None, 26, 26, 32)        320       \n",
      "                                                                 \n",
      " max_pooling2d (MaxPooling2D  (None, 13, 13, 32)       0         \n",
      " )                                                               \n",
      "                                                                 \n",
      " conv2d_1 (Conv2D)           (None, 11, 11, 62)        17918     \n",
      "                                                                 \n",
      " max_pooling2d_1 (MaxPooling  (None, 5, 5, 62)         0         \n",
      " 2D)                                                             \n",
      "                                                                 \n",
      " flatten (Flatten)           (None, 1550)              0         \n",
      "                                                                 \n",
      " dense (Dense)               (None, 128)               198528    \n",
      "                                                                 \n",
      " dense_1 (Dense)             (None, 10)                1290      \n",
      "                                                                 \n",
      "=================================================================\n",
      "Total params: 218,056\n",
      "Trainable params: 218,056\n",
      "Non-trainable params: 0\n",
      "_________________________________________________________________\n"
     ]
    }
   ],
   "source": [
    "model.summary()"
   ]
  },
  {
   "cell_type": "code",
   "execution_count": 11,
   "id": "88dce6bc",
   "metadata": {},
   "outputs": [],
   "source": [
    "model.compile(\n",
    "\toptimizer='adam',\n",
    "\tloss='categorical_crossentropy',\n",
    "\tmetrics=['accuracy']\n",
    ")"
   ]
  },
  {
   "cell_type": "code",
   "execution_count": 12,
   "id": "9479a447",
   "metadata": {},
   "outputs": [
    {
     "name": "stderr",
     "output_type": "stream",
     "text": [
      "2025-07-10 19:25:13.013718: W tensorflow/tsl/framework/cpu_allocator_impl.cc:83] Allocation of 150528000 exceeds 10% of free system memory.\n"
     ]
    },
    {
     "name": "stdout",
     "output_type": "stream",
     "text": [
      "Epoch 1/5\n",
      "  1/750 [..............................] - ETA: 1:04:08 - loss: 2.2650 - accuracy: 0.2812"
     ]
    },
    {
     "name": "stderr",
     "output_type": "stream",
     "text": [
      "2025-07-10 19:25:19.534064: W tensorflow/tsl/framework/cpu_allocator_impl.cc:83] Allocation of 18260352 exceeds 10% of free system memory.\n",
      "2025-07-10 19:25:19.534849: W tensorflow/tsl/framework/cpu_allocator_impl.cc:83] Allocation of 18260352 exceeds 10% of free system memory.\n",
      "2025-07-10 19:25:19.716733: W tensorflow/tsl/framework/cpu_allocator_impl.cc:83] Allocation of 18260352 exceeds 10% of free system memory.\n",
      "2025-07-10 19:25:19.726273: W tensorflow/tsl/framework/cpu_allocator_impl.cc:83] Allocation of 18260352 exceeds 10% of free system memory.\n"
     ]
    },
    {
     "name": "stdout",
     "output_type": "stream",
     "text": [
      "750/750 [==============================] - 105s 134ms/step - loss: 0.1786 - accuracy: 0.9457 - val_loss: 0.0720 - val_accuracy: 0.9786\n",
      "Epoch 2/5\n",
      "750/750 [==============================] - 83s 111ms/step - loss: 0.0539 - accuracy: 0.9830 - val_loss: 0.0450 - val_accuracy: 0.9872\n",
      "Epoch 3/5\n",
      "750/750 [==============================] - 85s 113ms/step - loss: 0.0364 - accuracy: 0.9885 - val_loss: 0.0405 - val_accuracy: 0.9874\n",
      "Epoch 4/5\n",
      "750/750 [==============================] - 87s 116ms/step - loss: 0.0265 - accuracy: 0.9914 - val_loss: 0.0394 - val_accuracy: 0.9887\n",
      "Epoch 5/5\n",
      "750/750 [==============================] - 85s 113ms/step - loss: 0.0197 - accuracy: 0.9934 - val_loss: 0.0448 - val_accuracy: 0.9873\n"
     ]
    }
   ],
   "source": [
    "history = model.fit(x_train, y_train, epochs=5, batch_size=64, validation_split=0.2)"
   ]
  },
  {
   "cell_type": "code",
   "execution_count": 13,
   "id": "210414c5",
   "metadata": {},
   "outputs": [
    {
     "name": "stdout",
     "output_type": "stream",
     "text": [
      "313/313 [==============================] - 8s 27ms/step - loss: 0.0371 - accuracy: 0.9889\n"
     ]
    }
   ],
   "source": [
    "test_loss, test_accuracy = model.evaluate(x_test, y_test)  "
   ]
  },
  {
   "cell_type": "code",
   "execution_count": 14,
   "id": "8bafd2af",
   "metadata": {},
   "outputs": [
    {
     "name": "stdout",
     "output_type": "stream",
     "text": [
      "This is about the accuracy in this data set: 0.9889\n"
     ]
    }
   ],
   "source": [
    "print(f'This is about the accuracy in this data set: {test_accuracy:.4f}')"
   ]
  },
  {
   "cell_type": "code",
   "execution_count": 15,
   "id": "c9a865df",
   "metadata": {},
   "outputs": [
    {
     "data": {
      "image/png": "[encoded data removed]",
      "text/plain": [
       "<Figure size 1200x400 with 2 Axes>"
      ]
     },
     "metadata": {},
     "output_type": "display_data"
    }
   ],
   "source": [
    "plt.figure(figsize=(12, 4))\n",
    "\n",
    "# accuracy plot\n",
    "plt.subplot(1, 2, 1)\n",
    "plt.plot(history.history['accuracy'], label='accuracy test')\n",
    "plt.plot(history.history['val_accuracy'], label='accuracy validation')\n",
    "plt.title('accuracy model')\n",
    "plt.xlabel('Epoch')\n",
    "plt.ylabel('Accuracy')\n",
    "plt.legend()\n",
    "\n",
    "# loss plot\n",
    "plt.subplot(1, 2, 2)\n",
    "plt.plot(history.history['loss'], label=' loss Train')\n",
    "plt.plot(history.history['val_loss'], label=' loss validation')\n",
    "plt.title('loss model')\n",
    "plt.xlabel('Epoch')\n",
    "plt.ylabel('Loss')\n",
    "plt.legend()\n",
    "\n",
    "plt.show()"
   ]
  },
  {
   "cell_type": "code",
   "execution_count": 16,
   "id": "77b62812",
   "metadata": {},
   "outputs": [
    {
     "name": "stdout",
     "output_type": "stream",
     "text": [
      "1/1 [==============================] - 0s 490ms/step\n"
     ]
    },
    {
     "data": {
      "image/png": "[encoded data removed]",
      "text/plain": [
       "<Figure size 1000x500 with 5 Axes>"
      ]
     },
     "metadata": {},
     "output_type": "display_data"
    }
   ],
   "source": [
    "predictions = model.predict(x_test[:5])\n",
    "\n",
    "plt.figure(figsize=(10, 5))\n",
    "for i in range(5):\n",
    "    plt.subplot(1, 5, i+1)\n",
    "    plt.imshow(x_test[i].reshape(28, 28), cmap='gray')\n",
    "    plt.title(f\"Pred: {np.argmax(predictions[i])}\\nTrue: {np.argmax(y_test[i])}\")\n",
    "    plt.axis('off')\n",
    "plt.show()"
   ]
  },
  {
   "cell_type": "markdown",
   "id": "b7f7e891",
   "metadata": {},
   "source": [
    "# CIFAR-10"
   ]
  },
  {
   "cell_type": "code",
   "execution_count": 16,
   "id": "2e3b320b",
   "metadata": {},
   "outputs": [],
   "source": [
    "def unpickle(file):\n",
    "    with open(file, 'rb') as fo:\n",
    "        dic = pickle.load(fo, encoding='bytes')\n",
    "        return dic\n",
    "    \n",
    "    \n",
    "file_data = '../../data/cifar-10-batches-py'\n",
    "\n",
    "\n",
    "\n",
    "x_train = []\n",
    "y_train = []\n",
    "for i in range(1, 6):\n",
    "    \n",
    "    batch = unpickle(os.path.join(file_data, f'data_batch_{i}'))\n",
    "    x_train.append(batch[b'data'])\n",
    "    y_train.append(batch[b'labels'])\n",
    "x_train = np.concatenate(x_train)\n",
    "y_train = np.concatenate(y_train)"
   ]
  },
  {
   "cell_type": "code",
   "execution_count": 17,
   "id": "8b364f6d",
   "metadata": {},
   "outputs": [],
   "source": [
    "test_bach = unpickle(os.path.join(file_data, 'test_batch'))\n"
   ]
  },
  {
   "cell_type": "code",
   "execution_count": 18,
   "id": "392e6c35",
   "metadata": {},
   "outputs": [],
   "source": [
    "x_test = test_bach[b'data']\n",
    "y_test = np.array(test_bach[b'labels'])"
   ]
  },
  {
   "cell_type": "code",
   "execution_count": 19,
   "id": "f5cc827b",
   "metadata": {},
   "outputs": [
    {
     "data": {
      "text/plain": [
       "array([3, 8, 8, ..., 5, 1, 7])"
      ]
     },
     "execution_count": 19,
     "metadata": {},
     "output_type": "execute_result"
    }
   ],
   "source": [
    "y_test"
   ]
  },
  {
   "cell_type": "code",
   "execution_count": 20,
   "id": "d403b9e6",
   "metadata": {},
   "outputs": [],
   "source": [
    "x_train = x_train.reshape(-1, 3, 32, 32).transpose(0, 2, 3, 1)\n",
    "x_test = x_test.reshape(-1, 3, 32, 32).transpose(0, 2, 3, 1)"
   ]
  },
  {
   "cell_type": "code",
   "execution_count": 21,
   "id": "9e75c27f",
   "metadata": {},
   "outputs": [],
   "source": [
    "x_train = x_train.astype('float32') / 255.0\n",
    "x_test = x_test.astype('float32') / 255.0"
   ]
  },
  {
   "cell_type": "code",
   "execution_count": 22,
   "id": "29e23847",
   "metadata": {},
   "outputs": [],
   "source": [
    "y_train = tf.keras.utils.to_categorical(y_train, 10)\n",
    "y_test = tf.keras.utils.to_categorical(y_test, 10)"
   ]
  },
  {
   "cell_type": "code",
   "execution_count": 23,
   "id": "17d5c5d8",
   "metadata": {},
   "outputs": [
    {
     "data": {
      "text/plain": [
       "array([[0., 0., 0., ..., 0., 0., 0.],\n",
       "       [0., 0., 0., ..., 0., 0., 1.],\n",
       "       [0., 0., 0., ..., 0., 0., 1.],\n",
       "       ...,\n",
       "       [0., 0., 0., ..., 0., 0., 1.],\n",
       "       [0., 1., 0., ..., 0., 0., 0.],\n",
       "       [0., 1., 0., ..., 0., 0., 0.]], dtype=float32)"
      ]
     },
     "execution_count": 23,
     "metadata": {},
     "output_type": "execute_result"
    }
   ],
   "source": [
    "y_train"
   ]
  },
  {
   "cell_type": "code",
   "execution_count": 24,
   "id": "db42ab9a",
   "metadata": {},
   "outputs": [],
   "source": [
    "class_names = ['airplane', 'car', 'bird', 'cat', 'deer', \n",
    "               'dog', 'frog', 'horse', 'ship', 'truck']\n",
    "\n"
   ]
  },
  {
   "cell_type": "code",
   "execution_count": 25,
   "id": "96f9ac6b",
   "metadata": {},
   "outputs": [
    {
     "data": {
      "image/png": "[encoded data removed]",
      "text/plain": [
       "<Figure size 1000x500 with 5 Axes>"
      ]
     },
     "metadata": {},
     "output_type": "display_data"
    }
   ],
   "source": [
    "plt.figure(figsize=(10, 5))\n",
    "for i in range(5):\n",
    "    plt.subplot(1,5,i+1)\n",
    "    plt.imshow(x_train[i])\n",
    "    plt.title(class_names[np.argmax(y_train[i])])\n",
    "    plt.axis('off')\n",
    "    \n",
    "plt.show()\n",
    "    "
   ]
  },
  {
   "cell_type": "code",
   "execution_count": 26,
   "id": "eef360ca",
   "metadata": {},
   "outputs": [],
   "source": [
    "class Conv2D:\n",
    "    def __init__(self, filters: int, kernel_size: Tuple[int, int], activation: str = \"relu\", padding: str = 'same'):\n",
    "        self.filters = filters\n",
    "        self.kernel_size = kernel_size\n",
    "        self.activation = activation\n",
    "        self.padding = padding\n",
    "        self.weights = None\n",
    "        self.bias = None\n",
    "        \n",
    "        \n",
    "    def initialize_weights(self, input_shape: Tuple[int, int, int]):\t\n",
    "        fan_in = np.prod(self.kernel_size) * input_shape[2]\n",
    "        fan_out = np.prod(self.kernel_size) * self.filters\n",
    "        limit = np.sqrt(6 / (fan_in + fan_out))\n",
    "        self.weights = np.random.uniform(-limit, limit, (self.kernel_size[0], self.kernel_size[1], input_shape[2], self.filters))\n",
    "        self.bias = np.zeros((self.filters))\n",
    "        \n",
    "        \n",
    "    def forward(self, x: np.ndarray)-> np.ndarray:\n",
    "        \n",
    "        batch_size, height, width, channels = x.shape \n",
    "        \n",
    "        if self.weights is None:\n",
    "            self.initialize_weights((height, width, channels))\n",
    "            \n",
    "            \n",
    "        if self.padding == 'same':\n",
    "            pad_h = self.kernel_size[0] // 2\n",
    "            pad_w = self.kernel_size[1] // 2\n",
    "            x_padded = np.pad(x, ((0,0), (pad_h, pad_h), (pad_w, pad_w), (0,0)), mode='constant')\n",
    "        else:\n",
    "            x_padded = x      \n",
    "        \n",
    "        \n",
    "        out_height = x_padded.shaep[1] - self.kernel_size[0] + 1\n",
    "        \n",
    "        out_weight = x_padded.shaep[2] - self.kernel_size[1] + 1\n",
    "        \n",
    "        output = np.zeros((batch_size, out_height, out_weight, self.filters))\n",
    "        \n",
    "        \n",
    "        \n",
    "        for i in range(out_height):\n",
    "            for j in range(out_weight):\n",
    "                for f in range(self.filters):\n",
    "                    region = x_padded[:, i:i+self.kernel_size[0],j:j+self.kernel_size[1], :]\n",
    "                    output[:, i, j, f] = np.sum(region * self.weights[:, :, :, f], axis=(1, 2, 3)) + self.bias[f]\n",
    "                    \n",
    "                    \n",
    "        if self.activation == 'relu':\n",
    "            output = np.maximum(0, output)\n",
    "            \n",
    "        return output\n",
    "            \n",
    "class BatchNormalization:\n",
    "    \n",
    "    def __init__(self, epsilon: float = 1e-5, momentum: float = 0.99):\n",
    "        self.epsilon = epsilon\n",
    "        self.momentum = momentum\n",
    "        self.gamma = None\n",
    "        self.beta = None\n",
    "        self.running_mean = None\n",
    "        self.running_var = None\n",
    "        self.training = True\n",
    "    \n",
    "    def forward(self, x: np.ndarray)-> np.ndarray:\n",
    "        if self.gamma is None:\n",
    "            shape = x.shape[-1 :]\n",
    "    \n",
    "            self.gamma = np.ones(shape)\n",
    "            self.beta = np.zeros(shape)\n",
    "    \n",
    "            self.running_mean = np.zeros(shape)\n",
    "            self.running_var = np.ones(shape)\n",
    "            \n",
    "            \n",
    "        if self.training:\n",
    "            \n",
    "            batch_mean = np.mean(x, axis=(0, 1, 2), keepdims=True)\n",
    "            batch_var = np.var(x, axis=(0, 1 ,2), keepdims=True)\n",
    "            \n",
    "            self.running_mean = self.momentum * self.running_mean + (1 - self.momentum) * batch_mean.squeeze()\n",
    "            self.running_var = self.momentum * self.running_var + (1 - self.momentum) * batch_var.squeeze()\n",
    "            \n",
    "            \n",
    "            # Normalize\n",
    "            \n",
    "            x_norm = (x - batch_mean) / np.sqrt(batch_var + self.epsilon)\n",
    "            \n",
    "        else:\n",
    "            x_norm = (x - self.running_mean) / np.sqrt(self.running_var + self.epsilon) \n",
    "            \n",
    "        return self.gamma * x_norm + self.beta\n",
    "    \n",
    "    \n",
    "    \n",
    "class MaxPooling2D:\n",
    "    def __init__(self, pool_size: Tuple[int, int] = (2, 2)):\n",
    "        self.pool_size = pool_size\n",
    "        \n",
    "        \n",
    "    def forward(self, x: np.ndarray) -> np.ndarray:\n",
    "        batch_size, height, width, channels = x.shape\n",
    "        \n",
    "        \n",
    "        \n",
    "        out_height = height // self.pool_size[0]\n",
    "        out_width = width // self.pool_size[1]\n",
    "        \n",
    "        \n",
    "        \n",
    "        \n",
    "        output = np.zeros((batch_size, out_height, out_width, channels ))\n",
    "        \n",
    "        for i in range(out_height):\n",
    "            for j in range(out_width):\n",
    "                h_start = i * self.pool_size[0] \n",
    "                h_end = h_start + self.pool_size[0]\n",
    "                w_start = j * self.pool_size[1]\n",
    "                w_end = w_start + self.pool_size[1]\n",
    "                \n",
    "                pool_region = x[:, h_start:h_end, w_start: w_end, :]\n",
    "                \n",
    "                output[:, i, j, :] = np.max(pool_region, axis=(1,2))\n",
    "                \n",
    "                \n",
    "        return output\n",
    "    \n",
    "class Dropout:\n",
    "    def __init__(self, rate: float): \n",
    "        self.rate = rate\n",
    "        self.training = True\n",
    "        \n",
    "        \n",
    "    def forward(self, x: np.ndarray) -> np.ndarray:\n",
    "        if self.training and self.rate > 0:\n",
    "            keep_prob = 1 - self.rate\n",
    "            mask = np.random.binomial(1, keep_prob, size=x.shape) / keep_prob\n",
    "            return x * mask\n",
    "        return x\n",
    "        \n",
    "\t\t\t\t\n",
    "class Flatten:\n",
    "    def __init__(self)-> None:\n",
    "        pass\n",
    "    \n",
    "    def forward(self,x: np.ndarray)-> np.ndarray:\n",
    "        batch_size = x.shape[0]\n",
    "        return x.reshape(batch_size, -1 )\n",
    "    \n",
    "    \n",
    "    \n",
    "class Dense:\n",
    "    def __init__(self, units: int, activation: str = 'linear'):\n",
    "        self.units = units\n",
    "        self.activation = activation\n",
    "        self.weights = None\n",
    "        self.bias = None\n",
    "        \n",
    "    def initialize_weights(self, input_dim: int):\n",
    "        limit = np.sqrt(6 / (input_dim + self.units))\n",
    "        self.weights = np.random.uniform(-limit , limit, (input_dim, self.units))\n",
    "        self.bias = np.zeros((self.units))\n",
    "    \n",
    "    def forward(self, x: np.ndarray)-> np.ndarray:\n",
    "        if self.weights is None:\n",
    "            self.initialize_weights(x.shape[0])\n",
    "            \n",
    "            \n",
    "        output = np.dot(x, self.weights) + self.bias\n",
    "        \n",
    "        \n",
    "        if self.activation == \"relu\":\n",
    "            output = np.maximum(0, output)\n",
    "        \n",
    "        elif self.activation == 'softmax':\n",
    "            exp_scores = np.exp(output - np.max(output, axis=1, keepdims=True))\n",
    "            output = exp_scores / np.sum(exp_scores, axis=1, keepdims=True)    \n",
    "            \n",
    "            \n",
    "        return output\n",
    "            "
   ]
  },
  {
   "cell_type": "code",
   "execution_count": 27,
   "id": "19913363",
   "metadata": {},
   "outputs": [],
   "source": [
    "\n",
    "class CNN:\n",
    "    def __init__(self):\n",
    "        self.layers = [\n",
    "            Conv2D(32, (3, 3), activation='relu', padding='same'),\n",
    "            BatchNormalization(),\n",
    "            Conv2D(32, (3, 3), activation='relu', padding='same'),\n",
    "            BatchNormalization(),\n",
    "            MaxPooling2D((2, 2)),\n",
    "            Dropout(0.25),\n",
    "            Conv2D(64, (3, 3), activation='relu', padding='same'),\n",
    "            BatchNormalization(),\n",
    "            Conv2D(64, (3, 3), activation='relu', padding='same'),\n",
    "            BatchNormalization(),\n",
    "            MaxPooling2D((2, 2)),\n",
    "            Dropout(0.25),\n",
    "            Flatten(),\n",
    "            Dense(512, activation='relu'),\n",
    "            BatchNormalization(),\n",
    "            Dropout(0.5),\n",
    "            Dense(10, activation='softmax')\n",
    "        ]\n",
    "    \n",
    "    def forward(self, x: np.ndarray) -> np.ndarray:\n",
    "        for layer in self.layers:\n",
    "            x = layer.forward(x)\n",
    "        return x\n",
    "    \n",
    "    def set_training(self, training: bool):\n",
    "        for layer in self.layers:\n",
    "            if hasattr(layer, 'training'):\n",
    "                layer.training = training\n",
    "    \n",
    "    def compute_loss(self, y_true: np.ndarray, y_pred: np.ndarray) -> float:\n",
    "        \"\"\"Compute categorical cross-entropy loss\"\"\"\n",
    "        # Clip predictions to prevent log(0)\n",
    "        y_pred = np.clip(y_pred, 1e-15, 1 - 1e-15)\n",
    "        return -np.mean(np.sum(y_true * np.log(y_pred), axis=1))\n",
    "    \n",
    "    def compute_accuracy(self, y_true: np.ndarray, y_pred: np.ndarray) -> float:\n",
    "        \"\"\"Compute classification accuracy\"\"\"\n",
    "        y_true_labels = np.argmax(y_true, axis=1)\n",
    "        y_pred_labels = np.argmax(y_pred, axis=1)\n",
    "        return np.mean(y_true_labels == y_pred_labels)\n",
    "    \n",
    "    def train_step(self, x: np.ndarray, y: np.ndarray) -> Tuple[float, float]:\n",
    "        \"\"\"Perform one training step (forward pass only for now)\"\"\"\n",
    "        self.set_training(True)\n",
    "        y_pred = self.forward(x)\n",
    "        loss = self.compute_loss(y, y_pred)\n",
    "        accuracy = self.compute_accuracy(y, y_pred)\n",
    "        return loss, accuracy\n",
    "    \n",
    "    def evaluate(self, x: np.ndarray, y: np.ndarray, batch_size: int = 32) -> Tuple[float, float]:\n",
    "        \"\"\"Evaluate model on test data\"\"\"\n",
    "        self.set_training(False)\n",
    "        total_loss = 0.0\n",
    "        total_accuracy = 0.0\n",
    "        num_batches = 0\n",
    "        \n",
    "        for i in range(0, len(x), batch_size):\n",
    "            batch_x = x[i:i+batch_size]\n",
    "            batch_y = y[i:i+batch_size]\n",
    "            \n",
    "            y_pred = self.forward(batch_x)\n",
    "            loss = self.compute_loss(batch_y, y_pred)\n",
    "            accuracy = self.compute_accuracy(batch_y, y_pred)\n",
    "            \n",
    "            total_loss += loss\n",
    "            total_accuracy += accuracy\n",
    "            num_batches += 1\n",
    "        \n",
    "        return total_loss / num_batches, total_accuracy / num_batches"
   ]
  },
  {
   "cell_type": "code",
   "execution_count": 3,
   "id": "b8b3fbcb",
   "metadata": {},
   "outputs": [],
   "source": [
    "class Layer:\n",
    "    def __init__(self):\n",
    "        self.inp = None\n",
    "        self.out = None\n",
    "        \n",
    "        \n",
    "    def __call__(self, inp: np.ndarray)-> np.ndarray:\n",
    "        return self.forward(inp)\n",
    "    \n",
    "    \n",
    "    def forward(self, inp: np.ndarray)-> np.ndarray:\n",
    "        raise NotImplementedError\n",
    "    \n",
    "    \n",
    "    def backward(self, up_grad: np.ndarray)-> np.ndarray:\n",
    "        raise NotImplementedError\n",
    "    \n",
    "    def step(self, lr: float)-> None:\n",
    "        pass "
   ]
  },
  {
   "cell_type": "code",
   "execution_count": null,
   "id": "37a91d3f",
   "metadata": {},
   "outputs": [],
   "source": [
    "class Linear(Layer):\n",
    "    def __init__(self, in_dim: int, out_dim: int):\n",
    "        super().__init__()\n",
    "        self.w = 0.1 * np.random.randn(in_dim, out_dim)  "
   ]
  }
 ],
 "metadata": {
  "kernelspec": {
   "display_name": "backend-_rtLvpYT-py3.10",
   "language": "python",
   "name": "python3"
  },
  "language_info": {
   "codemirror_mode": {
    "name": "ipython",
    "version": 3
   },
   "file_extension": ".py",
   "mimetype": "text/x-python",
   "name": "python",
   "nbconvert_exporter": "python",
   "pygments_lexer": "ipython3",
   "version": "3.10.14"
  }
 },
 "nbformat": 4,
 "nbformat_minor": 5
}
